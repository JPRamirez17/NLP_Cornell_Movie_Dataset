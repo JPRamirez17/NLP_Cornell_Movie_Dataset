{
  "nbformat": 4,
  "nbformat_minor": 0,
  "metadata": {
    "colab": {
      "provenance": []
    },
    "kernelspec": {
      "name": "python3",
      "display_name": "Python 3"
    },
    "language_info": {
      "name": "python"
    }
  },
  "cells": [
    {
      "cell_type": "markdown",
      "source": [
        "# Cornell Movie Dialog Dataset\n",
        "Collection of conversations extracted from movie scripts, created by researchers at *Cornell University*\n",
        "\n",
        "- Website: https://www.cs.cornell.edu/~cristian/Chameleons_in_imagined_conversations.html\n",
        "\n",
        "- Dataset: http://www.cs.cornell.edu/~cristian/data/cornell_movie_dialogs_corpus.zip\n",
        "\n",
        "- Paper: https://www.cs.cornell.edu/~cristian/papers/chameleons.pdf\n",
        "\n",
        "**Citation:**\n",
        ">Danescu-Niculescu-Mizil, C., & Lee, L. (2011).\n",
        ">\n",
        "> *Chameleons in imagined conversations: A new approach to understanding coordination of linguistic style in dialogs.*\n",
        ">\n",
        "> In Proceedings of the Workshop on Cognitive Modeling and Computational Linguistics, ACL 2011.\n",
        "\n"
      ],
      "metadata": {
        "id": "FIse_sLsCEjE"
      }
    },
    {
      "cell_type": "markdown",
      "source": [
        "**NLP Group Assignment**\n",
        "- Elif Gamze GULITER\n",
        "- Romane KULESZA\n",
        "- Volkan MAZLUM\n",
        "- Juan Pablo RAMIREZ\n",
        "\n",
        "**Politecnico di Milano**\n",
        "\n",
        "The purpose of this notebook is to ..."
      ],
      "metadata": {
        "id": "3buKf5-gDko-"
      }
    },
    {
      "cell_type": "markdown",
      "source": [
        "### Connect to Drive\n",
        "**(optional for Google Colab users)**"
      ],
      "metadata": {
        "id": "kCb_AA0JE--e"
      }
    },
    {
      "cell_type": "code",
      "execution_count": 1,
      "metadata": {
        "colab": {
          "base_uri": "https://localhost:8080/"
        },
        "id": "2khE1l5iEyNu",
        "outputId": "84d46e52-070c-4a23-e262-fff691f7f12e"
      },
      "outputs": [
        {
          "output_type": "stream",
          "name": "stdout",
          "text": [
            "Mounted at /content/drive/\n",
            "/content/drive/My Drive/NLP Cornell Movie Dataset\n"
          ]
        }
      ],
      "source": [
        "from google.colab import drive\n",
        "drive.mount('/content/drive/')\n",
        "\n",
        "%cd /content/drive/My Drive/NLP Cornell Movie Dataset/"
      ]
    },
    {
      "cell_type": "markdown",
      "source": [
        "### Download and unzip the Cornell Movie Dialog dataset\n",
        "**(optional)**"
      ],
      "metadata": {
        "id": "Egus7MfpGPD_"
      }
    },
    {
      "cell_type": "code",
      "source": [
        "# Download and unzip the Cornell Movie Dialog dataset\n",
        "download = False\n",
        "if download:\n",
        "  !curl -L -o cornell_movie_dialogs.zip http://www.cs.cornell.edu/~cristian/data/cornell_movie_dialogs_corpus.zip\n",
        "  !unzip cornell_movie_dialogs.zip"
      ],
      "metadata": {
        "colab": {
          "base_uri": "https://localhost:8080/"
        },
        "id": "k59OkYTQS3Bq",
        "outputId": "b269f54e-0ad6-4ba5-be8d-94c494a20c2b"
      },
      "execution_count": 42,
      "outputs": [
        {
          "output_type": "stream",
          "name": "stdout",
          "text": [
            "  % Total    % Received % Xferd  Average Speed   Time    Time     Time  Current\n",
            "                                 Dload  Upload   Total   Spent    Left  Speed\n",
            "100 9684k  100 9684k    0     0  8492k      0  0:00:01  0:00:01 --:--:-- 8494k\n",
            "Archive:  cornell_movie_dialogs.zip\n",
            "   creating: cornell movie-dialogs corpus/\n",
            "  inflating: cornell movie-dialogs corpus/.DS_Store  \n",
            "   creating: __MACOSX/\n",
            "   creating: __MACOSX/cornell movie-dialogs corpus/\n",
            "  inflating: __MACOSX/cornell movie-dialogs corpus/._.DS_Store  \n",
            "  inflating: cornell movie-dialogs corpus/chameleons.pdf  \n",
            "  inflating: __MACOSX/cornell movie-dialogs corpus/._chameleons.pdf  \n",
            "  inflating: cornell movie-dialogs corpus/movie_characters_metadata.txt  \n",
            "  inflating: cornell movie-dialogs corpus/movie_conversations.txt  \n",
            "  inflating: cornell movie-dialogs corpus/movie_lines.txt  \n",
            "  inflating: cornell movie-dialogs corpus/movie_titles_metadata.txt  \n",
            "  inflating: cornell movie-dialogs corpus/raw_script_urls.txt  \n",
            "  inflating: cornell movie-dialogs corpus/README.txt  \n",
            "  inflating: __MACOSX/cornell movie-dialogs corpus/._README.txt  \n"
          ]
        }
      ]
    },
    {
      "cell_type": "markdown",
      "source": [
        "### Import Libraries"
      ],
      "metadata": {
        "id": "b4L8TnvWFPBY"
      }
    },
    {
      "cell_type": "code",
      "source": [
        "# Fix randomness and hide warnings\n",
        "seed = 42\n",
        "\n",
        "import os\n",
        "os.environ['TF_CPP_MIN_LOG_LEVEL'] = '3'\n",
        "os.environ['PYTHONHASHSEED'] = str(seed)\n",
        "os.environ['MPLCONFIGDIR'] = os.getcwd()+'/configs/'\n",
        "\n",
        "import warnings\n",
        "warnings.simplefilter(action='ignore', category=FutureWarning)\n",
        "warnings.simplefilter(action='ignore', category=Warning)\n",
        "\n",
        "import numpy as np\n",
        "np.random.seed(seed)\n",
        "\n",
        "import logging\n",
        "\n",
        "import random\n",
        "random.seed(seed)"
      ],
      "metadata": {
        "id": "QaHiCmiWFRVQ"
      },
      "execution_count": 2,
      "outputs": []
    },
    {
      "cell_type": "code",
      "source": [
        "# Import NLP libraries\n",
        "import re"
      ],
      "metadata": {
        "id": "959r6ebrIAc9"
      },
      "execution_count": 3,
      "outputs": []
    },
    {
      "cell_type": "code",
      "source": [
        "# Import other libraries\n",
        "import ast\n",
        "import pandas as pd\n",
        "import matplotlib.pyplot as plt\n",
        "plt.rc('font', size=16)"
      ],
      "metadata": {
        "id": "k5a4uQ9VFXA0"
      },
      "execution_count": 4,
      "outputs": []
    },
    {
      "cell_type": "markdown",
      "source": [
        "### Load Cornell Movie Dialog Dataset"
      ],
      "metadata": {
        "id": "lze3qN9JFeX3"
      }
    },
    {
      "cell_type": "code",
      "source": [
        "class CornellMovieDialogDataset:\n",
        "  \"\"\"\n",
        "  Class to represent the Cornell Movie Dialog Dataset.\n",
        "\n",
        "  Attributes:\n",
        "    - base_path (str): The base path where the dataset files are located.\n",
        "    - movies (dict): A dictionary to store movie metadata (indexed by movie ID).\n",
        "        - title\n",
        "        - year\n",
        "        - IMBD_rating\n",
        "        - IMBD_votes\n",
        "        - genres\n",
        "    - characters (dict): A dictionary to store character metadata (indexed by character ID).\n",
        "        - name\n",
        "        - movie_id\n",
        "        - gender\n",
        "        - pos_credits\n",
        "    - utterances (dict): A dictionary to store movie lines (indexed by utterance ID).\n",
        "        - character_id\n",
        "        - movie_id\n",
        "        - text\n",
        "    - conversations (list): A list to store conversation data (represented as a list of utterance IDs).\n",
        "  \"\"\"\n",
        "  def __init__(self, base_path):\n",
        "    self.base_path = base_path\n",
        "    self.movies = {}\n",
        "    self.characters = {}\n",
        "    self.utterances = {}\n",
        "    self.conversations = []\n",
        "    self.load_data()\n",
        "\n",
        "  def load_data(self):\n",
        "    \"\"\"\n",
        "    Loads the data from the dataset files into the class attributes.\n",
        "    Uses original iso-8859-1 encoding of the dataset to read files\n",
        "    \"\"\"\n",
        "    # Load movie titles\n",
        "    with open(self.base_path + \"/movie_titles_metadata.txt\", \"r\", encoding=\"iso-8859-1\") as file:\n",
        "      for line in file:\n",
        "        parts = [part.strip() for part in line.split(\"+++$+++\")]\n",
        "        self.movies[parts[0]] = {\n",
        "            'title': parts[1],\n",
        "            'year': int(re.match('\\d+', parts[2])[0]),\n",
        "            'IMDB_rating': float(re.match('[-+]?\\d*\\.\\d+', parts[3])[0]),\n",
        "            'IMDB_votes': int(re.match('\\d+', parts[4])[0]),\n",
        "            'genres': ast.literal_eval(parts[5])\n",
        "        }\n",
        "\n",
        "    # Load characters\n",
        "    with open(self.base_path + \"/movie_characters_metadata.txt\", \"r\", encoding=\"iso-8859-1\") as file:\n",
        "      for line in file:\n",
        "        parts = [part.strip() for part in line.split(\"+++$+++\")]\n",
        "        self.characters[parts[0]] = {\n",
        "            'name': parts[1],\n",
        "            'movie_id': parts[2],\n",
        "            # ignore movie title (redundant)\n",
        "            'gender': parts[4],\n",
        "            'pos_credits': parts[5]\n",
        "        }\n",
        "\n",
        "    # Load movie lines\n",
        "    with open(self.base_path + \"/movie_lines.txt\", \"r\", encoding=\"iso-8859-1\") as file:\n",
        "      for line in file:\n",
        "        parts = [part.strip() for part in line.split(\"+++$+++\")]\n",
        "        self.utterances[parts[0]] = {\n",
        "            'character_id': parts[1],\n",
        "            'movie_id': parts[2],\n",
        "            # ignore character name (redundant)\n",
        "            'text': parts[4]\n",
        "        }\n",
        "\n",
        "    # Load conversations\n",
        "    with open(self.base_path + \"/movie_conversations.txt\", \"r\", encoding=\"iso-8859-1\") as file:\n",
        "      for line in file:\n",
        "        parts = [part.strip() for part in line.split(\"+++$+++\")]\n",
        "        self.conversations.append(ast.literal_eval(parts[3]))\n",
        "        # ignore character ids / movie id (redundant)\n",
        "\n",
        "  def print_summary(self):\n",
        "    \"\"\"\n",
        "    Prints a summary of the dataset.\n",
        "    \"\"\"\n",
        "    print(f'Number of movies: {len(self.movies)}')\n",
        "    print(f'Number of characters: {len(self.characters)}')\n",
        "    print(f'Number of utterances: {len(self.utterances)}')\n",
        "    print(f'Number of conversations: {len(self.conversations)}')\n",
        "\n",
        "  def print_random_conversation(self):\n",
        "    \"\"\"\n",
        "    Prints a random conversation from the dataset.\n",
        "    \"\"\"\n",
        "    conversation = random.choice(self.conversations)\n",
        "    movie = self.movies[self.utterances[conversation[0]]['movie_id']]\n",
        "    print(f\"{movie['title']} ({movie['year']})\")\n",
        "    for line in conversation:\n",
        "      print(f\"- {self.characters[self.utterances[line]['character_id']]['name']}: {self.utterances[line]['text']}\")\n"
      ],
      "metadata": {
        "id": "iA2vZOCKUtfc"
      },
      "execution_count": 5,
      "outputs": []
    },
    {
      "cell_type": "code",
      "source": [
        "# Instantiate dataset object and load data\n",
        "DATSET_FOLDER = 'cornell movie-dialogs corpus'\n",
        "dataset = CornellMovieDialogDataset(os.path.join(os.getcwd(), DATSET_FOLDER))"
      ],
      "metadata": {
        "id": "8nwJMaURR0mf"
      },
      "execution_count": 8,
      "outputs": []
    },
    {
      "cell_type": "code",
      "source": [
        "dataset.print_summary()"
      ],
      "metadata": {
        "colab": {
          "base_uri": "https://localhost:8080/"
        },
        "id": "081LeC1hke7c",
        "outputId": "6d851a8f-cc19-4a0f-b9e7-1a79b742e5d5"
      },
      "execution_count": 9,
      "outputs": [
        {
          "output_type": "stream",
          "name": "stdout",
          "text": [
            "Number of movies: 617\n",
            "Number of characters: 9035\n",
            "Number of utterances: 304713\n",
            "Number of conversations: 83097\n"
          ]
        }
      ]
    },
    {
      "cell_type": "code",
      "source": [
        "dataset.print_random_conversation()"
      ],
      "metadata": {
        "colab": {
          "base_uri": "https://localhost:8080/"
        },
        "id": "GHKd_Ty-oQ8o",
        "outputId": "308c2073-6cbe-449c-821b-106a09ecb6e6"
      },
      "execution_count": 12,
      "outputs": [
        {
          "output_type": "stream",
          "name": "stdout",
          "text": [
            "a walk to remember (2002)\n",
            "- REV. SULLIVAN: What's Landon Carter up to?\n",
            "- JAMIE: Up to?\n",
            "- REV. SULLIVAN: I thought we had rid ourselves of his disagreeable companionship.\n"
          ]
        }
      ]
    },
    {
      "cell_type": "code",
      "source": [
        "#!pip3 install convokit\n",
        "#from convokit import Corpus, download\n",
        "#corpus = Corpus(filename=download(\"movie-corpus\"))\n",
        "#dir(corpus)"
      ],
      "metadata": {
        "id": "uOwFNLysFjPF"
      },
      "execution_count": 6,
      "outputs": []
    }
  ]
}